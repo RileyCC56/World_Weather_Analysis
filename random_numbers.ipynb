{
 "cells": [
  {
   "cell_type": "code",
   "execution_count": 1,
   "id": "1d10cbe6",
   "metadata": {},
   "outputs": [],
   "source": [
    "import random"
   ]
  },
  {
   "cell_type": "code",
   "execution_count": 2,
   "id": "c9a0e853",
   "metadata": {},
   "outputs": [
    {
     "data": {
      "text/plain": [
       "18"
      ]
     },
     "execution_count": 2,
     "metadata": {},
     "output_type": "execute_result"
    }
   ],
   "source": [
    "random.randint(-90,90)"
   ]
  },
  {
   "cell_type": "code",
   "execution_count": 3,
   "id": "34332fae",
   "metadata": {},
   "outputs": [
    {
     "data": {
      "text/plain": [
       "0.9428185245995153"
      ]
     },
     "execution_count": 3,
     "metadata": {},
     "output_type": "execute_result"
    }
   ],
   "source": [
    "random.random()"
   ]
  },
  {
   "cell_type": "code",
   "execution_count": 4,
   "id": "a4bf445c",
   "metadata": {},
   "outputs": [],
   "source": [
    "x = 1\n",
    "latitudes = []\n",
    "while x < 11:\n",
    "    random_lat = random.randint(-90, 89) + random.random()\n",
    "    latitudes.append(random_lat)\n",
    "    x += 1 "
   ]
  },
  {
   "cell_type": "code",
   "execution_count": 5,
   "id": "ef93282a",
   "metadata": {},
   "outputs": [
    {
     "data": {
      "text/plain": [
       "[-17.45295130929161,\n",
       " 57.585091932119404,\n",
       " -8.340066192085898,\n",
       " 26.731580764275233,\n",
       " 75.99855278064665,\n",
       " 1.3867960381861897,\n",
       " -12.258549789007244,\n",
       " 50.931146858021194,\n",
       " 73.61062993739472,\n",
       " 73.23447887599362]"
      ]
     },
     "execution_count": 5,
     "metadata": {},
     "output_type": "execute_result"
    }
   ],
   "source": [
    "latitudes"
   ]
  },
  {
   "cell_type": "code",
   "execution_count": 6,
   "id": "518686c3",
   "metadata": {},
   "outputs": [
    {
     "data": {
      "text/plain": [
       "-18"
      ]
     },
     "execution_count": 6,
     "metadata": {},
     "output_type": "execute_result"
    }
   ],
   "source": [
    "random.randrange(-90, 90, step=1)"
   ]
  },
  {
   "cell_type": "code",
   "execution_count": 7,
   "id": "08617970",
   "metadata": {},
   "outputs": [
    {
     "data": {
      "text/plain": [
       "-9"
      ]
     },
     "execution_count": 7,
     "metadata": {},
     "output_type": "execute_result"
    }
   ],
   "source": [
    "random.randrange(-90, 90, step=3)"
   ]
  },
  {
   "cell_type": "code",
   "execution_count": 8,
   "id": "1d3db051",
   "metadata": {},
   "outputs": [],
   "source": [
    "import numpy as np"
   ]
  },
  {
   "cell_type": "code",
   "execution_count": 9,
   "id": "07122d8f",
   "metadata": {},
   "outputs": [
    {
     "data": {
      "text/plain": [
       "array([ 19.93357815,  34.57108745, -38.11908203, -59.42452928,\n",
       "       -18.06563987, -19.14253069,  60.78836475,  62.9347074 ,\n",
       "        12.44223806, -66.56814341,  50.25453841, -60.36561427,\n",
       "        37.53032089, -65.17622113,  79.6891352 ,  -2.67965689,\n",
       "       -30.61650615,  -7.78790461, -12.30830365,  13.31916318,\n",
       "        51.98215655, -63.13791017, -31.86064642,  42.70301967,\n",
       "       -58.89988432, -47.04927891, -65.46955349, -75.39052914,\n",
       "        72.17073628,  19.51418527,  85.70836563, -35.00209732,\n",
       "        42.92071124, -13.37376596, -70.54941199, -66.95533157,\n",
       "       -32.92513928, -34.42387341,  25.81541406,  75.05777411,\n",
       "        27.90180765,  67.86999861, -78.89413864,  16.40835361,\n",
       "        35.51931638, -29.84108934,   6.32948058, -77.20452508,\n",
       "       -24.31515067,  47.20436264])"
      ]
     },
     "execution_count": 9,
     "metadata": {},
     "output_type": "execute_result"
    }
   ],
   "source": [
    "np.random.uniform(-90.000, 90.000, size=50)"
   ]
  },
  {
   "cell_type": "code",
   "execution_count": 10,
   "id": "7dd696bc",
   "metadata": {},
   "outputs": [],
   "source": [
    "import timeit"
   ]
  },
  {
   "cell_type": "code",
   "execution_count": 11,
   "id": "f8dd76b3",
   "metadata": {},
   "outputs": [
    {
     "name": "stdout",
     "output_type": "stream",
     "text": [
      "10.6 µs ± 102 ns per loop (mean ± std. dev. of 7 runs, 100000 loops each)\n"
     ]
    }
   ],
   "source": [
    "%timeit np.random.uniform(-90.000, 90.000, size=1500)"
   ]
  },
  {
   "cell_type": "code",
   "execution_count": 12,
   "id": "531fa00e",
   "metadata": {},
   "outputs": [
    {
     "name": "stdout",
     "output_type": "stream",
     "text": [
      "1.03 ms ± 30.8 µs per loop (mean ± std. dev. of 7 runs, 1000 loops each)\n"
     ]
    }
   ],
   "source": [
    "def latitudes(size):\n",
    "    latitudes = []\n",
    "    x = 0\n",
    "    while x < (size):\n",
    "        random_lat = random.randint(-90, 90) + random.random()\n",
    "        latitudes.append(random_lat)\n",
    "        x += 1\n",
    "    return latitudes\n",
    "# Call the function with 1500.\n",
    "%timeit latitudes(1500)"
   ]
  },
  {
   "cell_type": "code",
   "execution_count": 13,
   "id": "e2cf83cc",
   "metadata": {},
   "outputs": [],
   "source": [
    "# Import linear regression from the SciPy stats module.\n",
    "from scipy.stats import linregress"
   ]
  },
  {
   "cell_type": "code",
   "execution_count": 14,
   "id": "c5fb9407",
   "metadata": {},
   "outputs": [],
   "source": [
    "# Create an equal number of latitudes and temperatures.\n",
    "lats = [42.5, 43.9, 8.1, 36.8, 79.9, 69.1, 25.7, 15.3, 12.7, 64.5]\n",
    "temps = [80.5, 75.3, 90.9, 90.0, 40.4, 62.3, 85.4, 79.6, 72.5, 72.0]"
   ]
  },
  {
   "cell_type": "code",
   "execution_count": 16,
   "id": "dae7b353",
   "metadata": {},
   "outputs": [
    {
     "name": "stdout",
     "output_type": "stream",
     "text": [
      "y = -0.45x + 92.94\n",
      "The p-value is 0.011\n"
     ]
    }
   ],
   "source": [
    "#Perform linear regression\n",
    "(slope, intercept, r_value, p_value, std_err) = linregress(lats, temps)\n",
    "\n",
    "#get the equation of the line\n",
    "line_eq = \"y = \" + str(round(slope,2)) + \"x + \" + str(round(intercept,2))\n",
    "print(line_eq)\n",
    "print(f\"The p-value is {p_value:.3f}\")"
   ]
  },
  {
   "cell_type": "code",
   "execution_count": 18,
   "id": "f6ecf919",
   "metadata": {},
   "outputs": [
    {
     "data": {
      "text/plain": [
       "[73.68973782871005,\n",
       " 73.05563705897195,\n",
       " 89.2704995994175,\n",
       " 76.27143381978658,\n",
       " 56.750188694278094,\n",
       " 61.64182320368626,\n",
       " 81.29894706556718,\n",
       " 86.00940992647874,\n",
       " 87.18702564170663,\n",
       " 63.72529716139714]"
      ]
     },
     "execution_count": 18,
     "metadata": {},
     "output_type": "execute_result"
    }
   ],
   "source": [
    "#Calculate the regression line y values from the slope and intercept\n",
    "regress_values =  [(lat * slope + intercept) for lat in lats]\n",
    "regress_values"
   ]
  },
  {
   "cell_type": "code",
   "execution_count": 19,
   "id": "b2a35dde",
   "metadata": {},
   "outputs": [
    {
     "data": {
      "image/png": "[encoded data removed]",
      "text/plain": [
       "<Figure size 432x288 with 1 Axes>"
      ]
     },
     "metadata": {
      "needs_background": "light"
     },
     "output_type": "display_data"
    }
   ],
   "source": [
    "import matplotlib.pyplot as plt\n",
    "\n",
    "#create a scatter plot of the x and y values\n",
    "plt.scatter(lats, temps)\n",
    "\n",
    "#plot the regress line with the x values and the y corrdinates based on the intercept and slope\n",
    "plt.plot(lats, regress_values, \"r\")\n",
    "\n",
    "# annotate the text for the line equation and add its coordinates\n",
    "plt.annotate(line_eq, (10,40), fontsize=15, color=\"red\")\n",
    "plt.xlabel(\"Latitude\")\n",
    "plt.ylabel(\"Temperature\")\n",
    "plt.show()"
   ]
  },
  {
   "cell_type": "code",
   "execution_count": null,
   "id": "4c9b2c5f",
   "metadata": {},
   "outputs": [],
   "source": []
  }
 ],
 "metadata": {
  "kernelspec": {
   "display_name": "PythonData",
   "language": "python",
   "name": "pythondata"
  },
  "language_info": {
   "codemirror_mode": {
    "name": "ipython",
    "version": 3
   },
   "file_extension": ".py",
   "mimetype": "text/x-python",
   "name": "python",
   "nbconvert_exporter": "python",
   "pygments_lexer": "ipython3",
   "version": "3.9.4"
  }
 },
 "nbformat": 4,
 "nbformat_minor": 5
}
