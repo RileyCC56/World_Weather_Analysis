{
 "cells": [
  {
   "cell_type": "code",
   "execution_count": 1,
   "id": "1d10cbe6",
   "metadata": {},
   "outputs": [],
   "source": [
    "import random"
   ]
  },
  {
   "cell_type": "code",
   "execution_count": 2,
   "id": "c9a0e853",
   "metadata": {},
   "outputs": [
    {
     "data": {
      "text/plain": [
       "-32"
      ]
     },
     "execution_count": 2,
     "metadata": {},
     "output_type": "execute_result"
    }
   ],
   "source": [
    "random.randint(-90,90)"
   ]
  },
  {
   "cell_type": "code",
   "execution_count": 3,
   "id": "34332fae",
   "metadata": {},
   "outputs": [
    {
     "data": {
      "text/plain": [
       "0.31872346265808105"
      ]
     },
     "execution_count": 3,
     "metadata": {},
     "output_type": "execute_result"
    }
   ],
   "source": [
    "random.random()"
   ]
  },
  {
   "cell_type": "code",
   "execution_count": 6,
   "id": "a4bf445c",
   "metadata": {},
   "outputs": [],
   "source": [
    "x = 1\n",
    "latitudes = []\n",
    "while x < 11:\n",
    "    random_lat = random.randint(-90, 89) + random.random()\n",
    "    latitudes.append(random_lat)\n",
    "    x += 1 "
   ]
  },
  {
   "cell_type": "code",
   "execution_count": 7,
   "id": "ef93282a",
   "metadata": {},
   "outputs": [
    {
     "data": {
      "text/plain": [
       "[59.25935021785893,\n",
       " 86.86590987427043,\n",
       " -40.78416144702281,\n",
       " 12.399461968176245,\n",
       " -6.21952857080023,\n",
       " 52.20589837626538,\n",
       " -50.901024247395135,\n",
       " -59.650971997023035,\n",
       " 65.65114774292063,\n",
       " -62.45041698303057]"
      ]
     },
     "execution_count": 7,
     "metadata": {},
     "output_type": "execute_result"
    }
   ],
   "source": [
    "latitudes"
   ]
  },
  {
   "cell_type": "code",
   "execution_count": 8,
   "id": "518686c3",
   "metadata": {},
   "outputs": [
    {
     "data": {
      "text/plain": [
       "-50"
      ]
     },
     "execution_count": 8,
     "metadata": {},
     "output_type": "execute_result"
    }
   ],
   "source": [
    "random.randrange(-90, 90, step=1)"
   ]
  },
  {
   "cell_type": "code",
   "execution_count": 9,
   "id": "08617970",
   "metadata": {},
   "outputs": [
    {
     "data": {
      "text/plain": [
       "69"
      ]
     },
     "execution_count": 9,
     "metadata": {},
     "output_type": "execute_result"
    }
   ],
   "source": [
    "random.randrange(-90, 90, step=3)"
   ]
  },
  {
   "cell_type": "code",
   "execution_count": 10,
   "id": "1d3db051",
   "metadata": {},
   "outputs": [],
   "source": [
    "import numpy as np"
   ]
  },
  {
   "cell_type": "code",
   "execution_count": 11,
   "id": "07122d8f",
   "metadata": {},
   "outputs": [
    {
     "data": {
      "text/plain": [
       "array([ 2.66072756e+01,  4.35413529e+01,  4.61384396e+01, -8.50787168e+01,\n",
       "        2.61162925e+01,  2.19131041e+01,  4.38282661e+01, -7.88558074e+01,\n",
       "       -7.55024182e+01, -5.92761494e+01,  3.46643026e+01,  4.38800033e+00,\n",
       "        4.96395584e+01, -7.34186876e+01, -8.05884789e+01,  3.51478752e+01,\n",
       "        1.15435909e+01, -7.76908427e+01,  2.60573269e+01,  4.54023211e+01,\n",
       "       -6.02315542e+01, -1.58641144e+01, -2.20508748e+00, -4.53556802e+01,\n",
       "        3.67311480e+01, -3.18868504e+01,  1.46249356e+01,  3.15095864e+00,\n",
       "       -1.36732537e+01,  8.53154092e+01,  5.10824454e+01, -1.51896106e+01,\n",
       "       -5.80685808e+01, -5.47225137e+00, -4.62134817e+01, -3.89169041e+00,\n",
       "       -9.59050148e+00,  8.84443349e+01,  6.33626471e+01,  1.22607409e+01,\n",
       "        6.47826939e+01,  1.84209075e+01,  5.38583319e+01, -8.50700431e+01,\n",
       "        6.24093020e+01,  5.26386197e+01,  6.36538680e+01,  4.89946751e-02,\n",
       "        8.32048758e+01,  4.74381668e+01])"
      ]
     },
     "execution_count": 11,
     "metadata": {},
     "output_type": "execute_result"
    }
   ],
   "source": [
    "np.random.uniform(-90.000, 90.000, size=50)"
   ]
  },
  {
   "cell_type": "code",
   "execution_count": 12,
   "id": "7dd696bc",
   "metadata": {},
   "outputs": [],
   "source": [
    "import timeit"
   ]
  },
  {
   "cell_type": "code",
   "execution_count": 14,
   "id": "f8dd76b3",
   "metadata": {},
   "outputs": [
    {
     "name": "stdout",
     "output_type": "stream",
     "text": [
      "10.5 µs ± 58.5 ns per loop (mean ± std. dev. of 7 runs, 100000 loops each)\n"
     ]
    }
   ],
   "source": [
    "%timeit np.random.uniform(-90.000, 90.000, size=1500)"
   ]
  },
  {
   "cell_type": "code",
   "execution_count": 15,
   "id": "531fa00e",
   "metadata": {},
   "outputs": [
    {
     "name": "stdout",
     "output_type": "stream",
     "text": [
      "1.01 ms ± 24.8 µs per loop (mean ± std. dev. of 7 runs, 1000 loops each)\n"
     ]
    }
   ],
   "source": [
    "def latitudes(size):\n",
    "    latitudes = []\n",
    "    x = 0\n",
    "    while x < (size):\n",
    "        random_lat = random.randint(-90, 90) + random.random()\n",
    "        latitudes.append(random_lat)\n",
    "        x += 1\n",
    "    return latitudes\n",
    "# Call the function with 1500.\n",
    "%timeit latitudes(1500)"
   ]
  },
  {
   "cell_type": "code",
   "execution_count": null,
   "id": "e2cf83cc",
   "metadata": {},
   "outputs": [],
   "source": []
  }
 ],
 "metadata": {
  "kernelspec": {
   "display_name": "PythonData",
   "language": "python",
   "name": "pythondata"
  },
  "language_info": {
   "codemirror_mode": {
    "name": "ipython",
    "version": 3
   },
   "file_extension": ".py",
   "mimetype": "text/x-python",
   "name": "python",
   "nbconvert_exporter": "python",
   "pygments_lexer": "ipython3",
   "version": "3.9.4"
  }
 },
 "nbformat": 4,
 "nbformat_minor": 5
}
